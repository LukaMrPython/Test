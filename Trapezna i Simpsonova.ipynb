{
 "cells": [
  {
   "cell_type": "code",
   "execution_count": 4,
   "metadata": {},
   "outputs": [
    {
     "name": "stdout",
     "output_type": "stream",
     "text": [
      "Aproksimacija površine: 18.0057719517\n",
      "Točna površina: 17.3672550947\n"
     ]
    },
    {
     "data": {
      "image/png": "[encoded data removed]",
      "text/plain": [
       "<matplotlib.figure.Figure at 0x199d813df60>"
      ]
     },
     "metadata": {},
     "output_type": "display_data"
    }
   ],
   "source": [
    "from matplotlib import *\n",
    "from pylab import *\n",
    "def trapezna(a,b,uy):\n",
    "    tocke=uy.size\n",
    "    suma=uy[0]+uy[-1]\n",
    "    for i in np.arange(tocke-2):\n",
    "        suma+=2*uy[i+1]\n",
    "    plot(np.linspace(a,b,tocke),uy,'b')\n",
    "    plot([a,a],[0,uy[0]],'b')\n",
    "    plot([b,b],[0,uy[-1]],'b')\n",
    "    plot([a,b],[0,0],'b')\n",
    "    return (b-a)/(tocke-1)*suma/2\n",
    "\n",
    "print('Aproksimacija površine:',trapezna(1,3,np.exp(np.linspace(1,3,4))))\n",
    "print('Točna površina:',np.exp(3)-np.exp(1))\n",
    "xlim(0,4)\n",
    "ylim(-1,25)\n",
    "yticks([-1,5,10,15,20,25])\n",
    "plot(np.linspace(1,3),np.exp(np.linspace(1,3)),'r')\n",
    "show()"
   ]
  },
  {
   "cell_type": "code",
   "execution_count": 7,
   "metadata": {},
   "outputs": [
    {
     "name": "stdout",
     "output_type": "stream",
     "text": [
      "Aproksimacija površine-trapeznom: 17.7275742529\n",
      "Aproksimacija površine-Simpsonovom: 17.3731105123\n",
      "Točna površina: 17.3672550947\n"
     ]
    }
   ],
   "source": [
    "def simpsonova(a,b,uy):\n",
    "    tocke=uy.size\n",
    "    suma=0\n",
    "    for i in np.arange(tocke):\n",
    "        if i==0 or i==tocke-1:\n",
    "            suma+=uy[i]\n",
    "        elif i%2==0:\n",
    "            suma+=2*uy[i]\n",
    "        else:\n",
    "            suma+=4*uy[i]\n",
    "    return (b-a)/(tocke-1)*suma/3\n",
    "print('Aproksimacija površine-trapeznom:',trapezna(1,3,np.exp(np.linspace(1,3,5))))\n",
    "print('Aproksimacija površine-Simpsonovom:',simpsonova(1,3,np.exp(np.linspace(1,3,5))))\n",
    "print('Točna površina:',np.exp(3)-np.exp(1))"
   ]
  }
 ],
 "metadata": {
  "kernelspec": {
   "display_name": "Python 3",
   "language": "python",
   "name": "python3"
  },
  "language_info": {
   "codemirror_mode": {
    "name": "ipython",
    "version": 3
   },
   "file_extension": ".py",
   "mimetype": "text/x-python",
   "name": "python",
   "nbconvert_exporter": "python",
   "pygments_lexer": "ipython3",
   "version": "3.6.2"
  }
 },
 "nbformat": 4,
 "nbformat_minor": 2
}
